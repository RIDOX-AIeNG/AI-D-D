{
 "cells": [
  {
   "cell_type": "code",
   "execution_count": 2,
   "id": "cbeb3247",
   "metadata": {},
   "outputs": [],
   "source": [
    "import numpy as np"
   ]
  },
  {
   "cell_type": "code",
   "execution_count": 4,
   "id": "0a54356a",
   "metadata": {},
   "outputs": [
    {
     "data": {
      "text/plain": [
       "array([[80, 70, 90],\n",
       "       [60, 85, 75],\n",
       "       [95, 88, 92],\n",
       "       [70, 60, 65]])"
      ]
     },
     "execution_count": 4,
     "metadata": {},
     "output_type": "execute_result"
    }
   ],
   "source": [
    "# 3.1 Represent the scores as a 4x3 matrix\n",
    "\n",
    "A= np.array([[80, 70, 90], [60, 85, 75], [95, 88, 92], [70, 60, 65]])\n",
    "A"
   ]
  },
  {
   "cell_type": "code",
   "execution_count": 5,
   "id": "ee9ed371",
   "metadata": {},
   "outputs": [
    {
     "name": "stdout",
     "output_type": "stream",
     "text": [
      "the total score for each student: [240 220 275 195]\n"
     ]
    }
   ],
   "source": [
    "# 3.2 Total score for each student\n",
    "\n",
    "print('the total score for each student:', np.sum(A, axis= 1))"
   ]
  },
  {
   "cell_type": "code",
   "execution_count": 7,
   "id": "8eea1446",
   "metadata": {},
   "outputs": [
    {
     "name": "stdout",
     "output_type": "stream",
     "text": [
      "Weights = \n",
      " [[160]\n",
      " [120]\n",
      " [190]\n",
      " [140]]\n"
     ]
    }
   ],
   "source": [
    "# 3.3 Applying weights (Scalar Multiplication)\n",
    "\n",
    "c = 2\n",
    "Math_col = np.array([[80],[60],[95],[70]])\n",
    "\n",
    "scalar_mult = c * Math_col\n",
    "\n",
    "print(f'Weights = \\n {scalar_mult}')"
   ]
  },
  {
   "cell_type": "code",
   "execution_count": 8,
   "id": "30293a8e",
   "metadata": {},
   "outputs": [
    {
     "name": "stdout",
     "output_type": "stream",
     "text": [
      "Average mean =  [76.25 75.75 80.5 ]\n"
     ]
    }
   ],
   "source": [
    "# 3.4 Calculate the average mean \n",
    "\n",
    "print('Average mean = ', np.mean(A, axis=0))"
   ]
  },
  {
   "cell_type": "code",
   "execution_count": null,
   "id": "e07e42ec",
   "metadata": {},
   "outputs": [
    {
     "data": {
      "text/plain": [
       "array([[79. ],\n",
       "       [70.5],\n",
       "       [92.3],\n",
       "       [66. ]])"
      ]
     },
     "execution_count": 12,
     "metadata": {},
     "output_type": "execute_result"
    }
   ],
   "source": [
    "# 3.5 Final Grades Using Matrix Multiplication\n",
    "\n",
    "Weight_vector = np.array([[0.5],[0.3],[0.2]])\n",
    "\n",
    "A= np.array([[80, 70, 90], \n",
    "             [60, 85, 75], \n",
    "             [95, 88, 92], \n",
    "             [70, 60, 65]])\n",
    "\n",
    "#Multiplying the matrix A by the weight\n",
    "\n",
    "MatriX_Mul = A @ Weight_vector\n",
    "MatriX_Mul"
   ]
  },
  {
   "cell_type": "code",
   "execution_count": 13,
   "id": "f6a54622",
   "metadata": {},
   "outputs": [
    {
     "data": {
      "text/plain": [
       "array([ 20, -15,  15])"
      ]
     },
     "execution_count": 13,
     "metadata": {},
     "output_type": "execute_result"
    }
   ],
   "source": [
    "# 3.6 Comparing Students (Vector Subtraction)\n",
    "\n",
    "# lets compare student 1 and student 2\n",
    "\n",
    "student_1 = np.array([80, 70, 90])\n",
    "student_2 = np.array([60, 85, 75])\n",
    "\n",
    "Vector_subtraction = student_1 - student_2\n",
    "Vector_subtraction"
   ]
  }
 ],
 "metadata": {
  "kernelspec": {
   "display_name": "ridwan (3.13.5)",
   "language": "python",
   "name": "python3"
  },
  "language_info": {
   "codemirror_mode": {
    "name": "ipython",
    "version": 3
   },
   "file_extension": ".py",
   "mimetype": "text/x-python",
   "name": "python",
   "nbconvert_exporter": "python",
   "pygments_lexer": "ipython3",
   "version": "3.13.5"
  }
 },
 "nbformat": 4,
 "nbformat_minor": 5
}
