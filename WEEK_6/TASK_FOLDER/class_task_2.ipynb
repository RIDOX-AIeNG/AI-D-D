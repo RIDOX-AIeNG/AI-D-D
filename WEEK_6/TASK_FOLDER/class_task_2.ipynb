{
 "cells": [
  {
   "cell_type": "markdown",
   "id": "a2165989",
   "metadata": {},
   "source": [
    "Name: Osho Ridwanullah Ayomide\n",
    "Track: AI Engineering\n",
    "\n",
    "\n",
    "Class Task 2\n",
    "\n",
    "\n",
    "Given the following matrices:\n",
    "\n",
    "``B = [[1, 2], \n",
    "     [- 2, 0], \n",
    "     [5, - 3]] ``\n",
    "     \n",
    "``A = [[2, - 1, 3],\n",
    "    [0, 4, 1]]``\n",
    "\n",
    "a Identify the number of rows and columns in each matrix.\n",
    "b Determine whether the matrices can be multiplied. If so, specify whether it's (AB), (BA), or both.\n",
    "If the multiplication is defined, compute the resulting matrix.\n",
    "\n",
    "``Solution:``\n",
    "\n",
    " a. Matrix B has 2 rows and 3 columns\n",
    "    Matrix A has 3 rows and 2 columns\n",
    "\n",
    " b. Yes, the matrix can be multiplied. Matrix (BA) and (AB) can be multiplied.\n",
    "\n",
    " c. B x A =\n",
    "  ``B = [[1, 2], \n",
    "     [- 2, 0], \n",
    "     [5, - 3]] ``  `` x ``  ``A = [[2, - 1, 3],\n",
    "    [0, 4, 1]]``\n",
    "\n",
    "    = [[2,7,5],[-4, 2 ,-6],[10, -17, 12]]\n",
    "\n",
    "\n",
    "\n",
    "    A x B =   A = [[2, - 1, 3],[0, 4, 1]]  X  B = [[1, 2], \n",
    "     [- 2, 0], \n",
    "     [5, - 3]] \n",
    "\n",
    "     = [[19, -5], [-3, -3]]\n",
    "     \n",
    "    \n"
   ]
  },
  {
   "cell_type": "code",
   "execution_count": 1,
   "id": "7c3197c7",
   "metadata": {},
   "outputs": [],
   "source": [
    "import numpy as np "
   ]
  },
  {
   "cell_type": "code",
   "execution_count": 2,
   "id": "80b3b4d1",
   "metadata": {},
   "outputs": [
    {
     "name": "stdout",
     "output_type": "stream",
     "text": [
      "[[19 -5]\n",
      " [-3 -3]]\n",
      "[[  2   7   5]\n",
      " [ -4   2  -6]\n",
      " [ 10 -17  12]]\n"
     ]
    }
   ],
   "source": [
    "A = np.array([[2, - 1, 3],[0, 4, 1]])\n",
    "B = np.array([[1, 2],[- 2, 0],[5, - 3]] )\n",
    "\n",
    "print(np.matmul(A,B))\n",
    "print(np.matmul(B,A))"
   ]
  }
 ],
 "metadata": {
  "kernelspec": {
   "display_name": ".venv (3.13.5)",
   "language": "python",
   "name": "python3"
  },
  "language_info": {
   "codemirror_mode": {
    "name": "ipython",
    "version": 3
   },
   "file_extension": ".py",
   "mimetype": "text/x-python",
   "name": "python",
   "nbconvert_exporter": "python",
   "pygments_lexer": "ipython3",
   "version": "3.13.5"
  }
 },
 "nbformat": 4,
 "nbformat_minor": 5
}
