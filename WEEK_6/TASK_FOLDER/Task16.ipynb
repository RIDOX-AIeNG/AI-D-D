{
 "cells": [
  {
   "cell_type": "markdown",
   "id": "761db545",
   "metadata": {},
   "source": [
    "**Linear Algebra**"
   ]
  },
  {
   "cell_type": "code",
   "execution_count": 1,
   "id": "5fd5db16",
   "metadata": {},
   "outputs": [],
   "source": [
    "import numpy as np"
   ]
  },
  {
   "cell_type": "code",
   "execution_count": 7,
   "id": "545d97de",
   "metadata": {},
   "outputs": [
    {
     "name": "stdout",
     "output_type": "stream",
     "text": [
      "[[ 4 -2]\n",
      " [ 0  6]]\n",
      "[[ 3 12]\n",
      " [-6 15]]\n",
      "[[10 -5]\n",
      " [ 0 15]]\n"
     ]
    }
   ],
   "source": [
    "#Compute the following\n",
    "A = np.array([[2,-1],[0,3]])\n",
    "B = np.array([[1,4],[-2,5]])\n",
    "\n",
    "c=2\n",
    "d= 3\n",
    "\n",
    "cA = c*A\n",
    "print(cA)\n",
    "\n",
    "dB = d*B\n",
    "print(dB)\n",
    "\n",
    "v1 = (c + d)*A\n",
    "print(v1)"
   ]
  },
  {
   "cell_type": "code",
   "execution_count": null,
   "id": "2c8e0390",
   "metadata": {},
   "outputs": [
    {
     "name": "stdout",
     "output_type": "stream",
     "text": [
      "[[12 -6]\n",
      " [ 0 18]]\n",
      "[[12 -6]\n",
      " [ 0 18]]\n",
      "distributive: {True}\n"
     ]
    }
   ],
   "source": [
    "# (B)\n",
    "\n",
    "#Scalar Multiplication\n",
    "\n",
    "#Associative property: (c.d)A = C.(dA)\n",
    "\n",
    "v5 = (c*d)*A\n",
    "print(v5)\n",
    "\n",
    "v6 = c*(d*A)\n",
    "print(v6)\n",
    "\n",
    "print(f\"Associative:\", {np.array_equal(v5,v6)})\n"
   ]
  },
  {
   "cell_type": "code",
   "execution_count": null,
   "id": "45243ab4",
   "metadata": {},
   "outputs": [
    {
     "name": "stdout",
     "output_type": "stream",
     "text": [
      "[[ 6  6]\n",
      " [-4 16]]\n",
      "[[ 6  6]\n",
      " [-4 16]]\n"
     ]
    }
   ],
   "source": [
    "#Distributive property: c(A + B) = cA + cB\n",
    "\n",
    "v7= c*(A + B)\n",
    "print(v7)\n",
    "\n",
    "v8 = c*A + c*B\n",
    "print(v8)\n",
    "\n",
    "print(f\"distributive:\", {np.array_equal(v7,v8)})\n",
    "\n"
   ]
  },
  {
   "cell_type": "code",
   "execution_count": 14,
   "id": "1a015143",
   "metadata": {},
   "outputs": [
    {
     "name": "stdout",
     "output_type": "stream",
     "text": [
      "[[10 -5]\n",
      " [ 0 15]]\n",
      "[[10 -5]\n",
      " [ 0 15]]\n",
      "Scalar Addition: {True}\n"
     ]
    }
   ],
   "source": [
    "#Scalar Addition; (c+d)A = A(c+d)\n",
    "v9 = (c + d)*A\n",
    "print(v9)\n",
    "\n",
    "v10 = A*(c + d)\n",
    "print(v10)\n",
    "\n",
    "print(f\"Scalar Addition:\", {np.array_equal(v9,v10)})\n"
   ]
  },
  {
   "cell_type": "code",
   "execution_count": 15,
   "id": "32b09100",
   "metadata": {},
   "outputs": [
    {
     "name": "stdout",
     "output_type": "stream",
     "text": [
      "\n",
      "Transpose A^T:\n",
      "[[ 2  0]\n",
      " [-1  3]]\n",
      "\n",
      "Inverse A^(-1):\n",
      "[[0.5        0.16666667]\n",
      " [0.         0.33333333]]\n",
      "\n",
      "Determinant |A|:\n",
      "6.0\n"
     ]
    }
   ],
   "source": [
    "#Transpose of A and B\n",
    "\n",
    "A = np.array([[2,-1],[0,3]])\n",
    "\n",
    "B = np.array([[1,4],[-2,5]])\n",
    "\n",
    "print(\"\\nTranspose A^T:\")\n",
    "print(A.T)\n",
    "print(\"\\nInverse A^(-1):\")\n",
    "print(np.linalg.inv(A))\n",
    "print(\"\\nDeterminant |A|:\")\n",
    "print(np.linalg.det(A))"
   ]
  },
  {
   "cell_type": "code",
   "execution_count": 16,
   "id": "119729db",
   "metadata": {},
   "outputs": [
    {
     "name": "stdout",
     "output_type": "stream",
     "text": [
      "\n",
      "Transpose B^T:\n",
      "[[ 1 -2]\n",
      " [ 4  5]]\n",
      "\n",
      "Inverse B^(-1):\n",
      "[[ 0.38461538 -0.30769231]\n",
      " [ 0.15384615  0.07692308]]\n",
      "\n",
      "Determinant |B|:\n",
      "13.0\n"
     ]
    }
   ],
   "source": [
    "print(\"\\nTranspose B^T:\")\n",
    "print(B.T)\n",
    "print(\"\\nInverse B^(-1):\")\n",
    "print(np.linalg.inv(B))\n",
    "print(\"\\nDeterminant |B|:\")\n",
    "print(np.linalg.det(B))"
   ]
  }
 ],
 "metadata": {
  "kernelspec": {
   "display_name": "ridwan (3.13.5)",
   "language": "python",
   "name": "python3"
  },
  "language_info": {
   "codemirror_mode": {
    "name": "ipython",
    "version": 3
   },
   "file_extension": ".py",
   "mimetype": "text/x-python",
   "name": "python",
   "nbconvert_exporter": "python",
   "pygments_lexer": "ipython3",
   "version": "3.13.5"
  }
 },
 "nbformat": 4,
 "nbformat_minor": 5
}
