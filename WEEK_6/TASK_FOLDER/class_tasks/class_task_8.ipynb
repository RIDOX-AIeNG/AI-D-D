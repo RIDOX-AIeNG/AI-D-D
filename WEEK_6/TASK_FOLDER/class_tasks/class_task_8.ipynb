{
 "cells": [
  {
   "cell_type": "markdown",
   "id": "616879d2",
   "metadata": {},
   "source": [
    "``Osho Ridwanullah``\n",
    "\n",
    "``Class Task 5``\n",
    "\n",
    "``AI Engineering``"
   ]
  },
  {
   "cell_type": "markdown",
   "id": "6478356b",
   "metadata": {},
   "source": [
    "# Types Of Hypothesis Testing"
   ]
  },
  {
   "cell_type": "markdown",
   "id": "3a87f0a3",
   "metadata": {
    "vscode": {
     "languageId": "plaintext"
    }
   },
   "source": [
    "``Chi-Square Test of Independence``\n",
    "\n",
    "The Chi-Square Test of Independence determines whether there is an association between categorical variables (i.e., whether the variables are independent or related). It is a nonparametric test.\n",
    "\n",
    "This test is also known as:\n",
    "\n",
    "Chi-Square Test of Association.\n",
    "This test utilizes a contingency table to analyze the data. A contingency table (also known as a cross-tabulation, crosstab, or two-way table) is an arrangement in which data is classified according to two categorical variables. The categories for one variable appear in the rows, and the categories for the other variable appear in columns. Each variable must have two or more categories. Each cell reflects the total count of cases for a specific pair of categories.\n",
    "\n",
    "- Data Requirements\n",
    "\n",
    "    Your data must meet the following requirements:\n",
    "\n",
    "    1. Two categorical variables.\n",
    "    2. Two or more categories (groups) for each variable.\n",
    "    3. Independence of observations.\n",
    "        - There is no relationship between the subjects in each group.\n",
    "        - The categorical variables are not \"paired\" in any way (e.g. pre-test/ post-test observations).\n",
    "    4. Relatively large sample size.\n",
    "        - Expected frequencies for each cell are at least 1.\n",
    "        - Expected frequencies should be at least 5 for the majority (80%) of the cells.\n",
    "\n",
    "- Hypotheses\n",
    "\n",
    "    The null hypothesis (H0) and alternative hypothesis (H1) of the Chi-Square Test of Independence can be expressed in two different but equivalent ways:\n",
    "\n",
    "    H0: \"[Variable 1] is independent of [Variable 2]\"\n",
    "    H1: \"[Variable 1] is not independent of [Variable 2]\"\n",
    "\n",
    "    OR\n",
    "\n",
    "    H0: \"[Variable 1] is not associated with [Variable 2]\"\n",
    "    H1: \"[Variable 1] is associated with [Variable 2]\"\n",
    "\n",
    "\n",
    "\n",
    "The test statistic for the Chi-Square Test of Independence is denoted Χ2, and is computed as:\n",
    "\n",
    "$$\n",
    "\\[\n",
    "\\chi^2 = \\sum_{i=1}^{R} \\sum_{j=1}^{C} \\frac{(o_{ij} - e_{ij})^2}{e_{ij}}\n",
    "\\]\n",
    "\n",
    "$$\n",
    "where\n",
    "\n",
    "oij\n",
    " is the observed cell count in the ith row and jth column of the table\n",
    "\n",
    "eij\n",
    " is the expected cell count in the ith row and jth column of the table, computed as\n",
    "\n",
    "eij=row i total∗col j totalgrand total\n",
    "\n",
    "The quantity (oij - eij) is sometimes referred to as the residual of cell (i, j), denoted rij\n",
    ".\n",
    "\n",
    "The calculated Χ2 value is then compared to the critical value from the Χ2 distribution table with degrees of freedom df = (R - 1)(C - 1) and chosen confidence level. If the calculated Χ2 value > critical Χ2 value, then we reject the null hypothesis.\n",
    "\n",
    "\n",
    "\n"
   ]
  }
 ],
 "metadata": {
  "language_info": {
   "name": "python"
  }
 },
 "nbformat": 4,
 "nbformat_minor": 5
}
