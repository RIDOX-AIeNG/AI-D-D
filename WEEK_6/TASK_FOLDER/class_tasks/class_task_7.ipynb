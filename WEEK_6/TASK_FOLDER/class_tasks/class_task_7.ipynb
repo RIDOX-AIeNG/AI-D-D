{
 "cells": [
  {
   "cell_type": "markdown",
   "id": "7dbf0b66",
   "metadata": {},
   "source": [
    "## Class Task 7 ##"
   ]
  },
  {
   "cell_type": "markdown",
   "id": "915910d2",
   "metadata": {},
   "source": [
    "* Name: Osho Ridwanullah \n",
    "* Track: AI-ENGINEERING"
   ]
  },
  {
   "cell_type": "markdown",
   "id": "563bf217",
   "metadata": {},
   "source": [
    "\n",
    "Example: ([4,8,6,5,3]), calculate the variance.\n"
   ]
  },
  {
   "cell_type": "markdown",
   "id": "ee738296",
   "metadata": {},
   "source": [
    "$$\n",
    "Variance(σ)^2 = \\frac{\\sum^n_{i = 1}{(x_i - u)}^2}{n}   \n",
    "$$\n",
    "where u is the mean"
   ]
  },
  {
   "cell_type": "markdown",
   "id": "43d61d7e",
   "metadata": {},
   "source": [
    "first we calculate the mean,\n",
    "\n",
    "$$\n",
    "Mean = \\frac{1}{n}\\sum^n_{i = 1}{x_i}\n",
    "$$\n",
    "\n",
    "values = 4,8,6,5,3\n",
    "\n",
    "number of values = 5\n",
    "$$\n",
    "= \\frac{ 4+8+6+5+3}{5}\n",
    "$$\n",
    "$$\n",
    "= 5.2\n",
    "$$\n",
    "\n",
    "Now that we have the mean we go on to the next step which is to calculate the value for the numerator in the fraction:\n",
    "\n",
    "$$\n",
    "{(x_i - u)}^2\n",
    "$$\n",
    "\n",
    "$$\n",
    "v1 = (4- 5.2)^2 =1.44\n",
    "\\newline\n",
    "\n",
    "v2 = (8-5.2)^2 =7.84\n",
    "\n",
    "\\newline\n",
    "\n",
    "v3 = (6-5.2)^2 =0.64\n",
    "\n",
    "\\newline\n",
    "\n",
    "v4 = (5-5.2)^2 =0.04\n",
    "\n",
    "\\newline\n",
    "\n",
    "v5 = (3-5.2)^2 =4.84\n",
    "\n",
    "\\newline\n",
    "\n",
    "\\text{summation of}  {(x_i - u)}^2 : 14.8\n",
    "\n",
    "\\newline\n",
    "\n",
    "\\text{since our n (number of values) is 5 we can therefore slot in the values and get our variance.}\n",
    "\n",
    "\\newline\n",
    "\n",
    "Variance(σ)^2 = \\frac{\\sum^n_{i = 1}{(x_i - u)}^2}{n}\n",
    "\n",
    "\\newline\n",
    "\n",
    "= \\frac{14.8}{5}\n",
    "\n",
    "\\newline\n",
    "\n",
    "= 2.96\n",
    "\n",
    "\\newline\n",
    "\n",
    "\\text{Our variance is 2.96}\n",
    "\n",
    "$$"
   ]
  }
 ],
 "metadata": {
  "language_info": {
   "name": "python"
  }
 },
 "nbformat": 4,
 "nbformat_minor": 5
}
