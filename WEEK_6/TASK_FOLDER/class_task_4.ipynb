{
 "cells": [
  {
   "cell_type": "markdown",
   "id": "b919ab79",
   "metadata": {},
   "source": [
    "##Linear Algebra##\n",
    "\n",
    "**Class Task 3**\n",
    "\n",
    "**Name: Osho Ridwanullah Ayomide**\n",
    "\n",
    "**Track: AI ENGINEERING**"
   ]
  },
  {
   "cell_type": "markdown",
   "id": "1dcf4cf4",
   "metadata": {},
   "source": [
    "# 3.1 Represent the scores as a 4x3 matrix\n",
    "let A = \n",
    "\\begin{bmatrix}\n",
    "80 & 70 & 90 \\\\ \n",
    "60 & 85 & 75 \\\\ \n",
    "95 & 88 & 92 \\\\ \n",
    "70 & 60 & 65\n",
    "\\end{bmatrix}\n",
    "\n",
    "# 3.2 Compute the total score for each students by summing acrosss the row vector \n",
    "\n",
    "Summing the matrix row-wise to get the total score for each students we have \n",
    "\n",
    "*student 1 = 80 + 70 + 90 = 240*\n",
    "\n",
    "*student 2 = 60 + 85 + 75 = 220*\n",
    "\n",
    "*student 3 = 95 + 88 + 92 = 275*\n",
    "\n",
    "*student 4 = 70 + 60 + 65 = 195*\n",
    "\n",
    "\\begin{bmatrix}\n",
    "student & Total Score \\\\\n",
    "Student1 & 240 \\\\\n",
    "Student2 & 220 \\\\\n",
    "Student3 & 275 \\\\\n",
    "Student4 & 195\n",
    "\\end{bmatrix}\n",
    "\n",
    "\n",
    "# 3.3 Applying weights (Scalar Multiplication)\n",
    "Mathematics obviously weighs x2 of the other courses so we are considering it.\n",
    "We will be picking the first column.\n",
    "\n",
    "\\begin{bmatrix}\n",
    "80 \\\\ 60 \\\\ 95 \\\\ 70\n",
    "\\end{bmatrix} × 2 = \n",
    "\n",
    "\\begin{bmatrix}\n",
    "160 \\\\ 120 \\\\ 190 \\\\ 140\n",
    "\\end{bmatrix}\n",
    "\n",
    "\n",
    "\n",
    "# 3.4 Calculate the average mean \n",
    "\n",
    "Avg_mean_subject 1 = (80 + 60 + 95 + 70)  / 4 = 76.25\n",
    "\n",
    "Avg_mean_subject 2 = (70 + 85 + 88 + 60) / 4 = 75.75\n",
    "\n",
    "Avg_mean_subject 3 = (90 + 75 + 92 +65) / 4 = 80.5\n",
    "\n",
    "\n",
    "\\begin{bmatrix}\n",
    "subject & Mean \\\\\n",
    "Subject 1 & 76.25 \\\\\n",
    "Subject 2 & 75.75 \\\\\n",
    "Subject 3 & 80.5 \\\\\n",
    "\\end{bmatrix}\n",
    "\n",
    "# 3.5 Final Grades Using Matrix Multiplication\n",
    "\n",
    "using the weight vector= \n",
    "\n",
    "\\begin{bmatrix}\n",
    "0.5 \\\\ 0.3 \\\\ 0.2\n",
    "\\end{bmatrix}\n",
    "\n",
    "multiplied by the student scores\n",
    "\n",
    "student score = \n",
    "\n",
    "\\begin{bmatrix}\n",
    "80 & 70 & 90 \\\\ \n",
    "60 & 85 & 75 \\\\ \n",
    "95 & 88 & 92 \\\\ \n",
    "70 & 60 & 65\n",
    "\\end{bmatrix}\n",
    "\n",
    "final grades = \n",
    "\n",
    "\\begin{bmatrix}\n",
    "79 \\\\ 70.5 \\\\ 92.3 \\\\ 66\n",
    "\\end{bmatrix}\n",
    "\n",
    "# 3.6 Comparing Students (Vector Subtraction)\n",
    "\n",
    "lets compare student 1 and student 2\n",
    "\n",
    "\\begin{bmatrix}\n",
    "Student 1 & 80 & 70 & 90 \\\\ \n",
    "Student 2 & 60 & 85 & 75\n",
    "\\end{bmatrix}\n",
    "\n",
    "subtracting their score vectors we have\n",
    "\n",
    "[20, -15, 25]\n",
    "\n",
    "\n"
   ]
  },
  {
   "cell_type": "code",
   "execution_count": 3,
   "id": "2ac3c94f",
   "metadata": {},
   "outputs": [],
   "source": [
    "import numpy as np"
   ]
  },
  {
   "cell_type": "code",
   "execution_count": 4,
   "id": "e2259df5",
   "metadata": {},
   "outputs": [
    {
     "data": {
      "text/plain": [
       "array([[80, 70, 90],\n",
       "       [60, 85, 75],\n",
       "       [95, 88, 92],\n",
       "       [70, 60, 65]])"
      ]
     },
     "execution_count": 4,
     "metadata": {},
     "output_type": "execute_result"
    }
   ],
   "source": [
    "# 3.1 Represent the scores as a 4x3 matrix\n",
    "\n",
    "A= np.array([[80, 70, 90], [60, 85, 75], [95, 88, 92], [70, 60, 65]])\n",
    "A"
   ]
  },
  {
   "cell_type": "code",
   "execution_count": 5,
   "id": "5e67ea9f",
   "metadata": {},
   "outputs": [
    {
     "name": "stdout",
     "output_type": "stream",
     "text": [
      "the total score for each student: [240 220 275 195]\n"
     ]
    }
   ],
   "source": [
    "# 3.2 Total score for each student\n",
    "\n",
    "print('the total score for each student:', np.sum(A, axis= 1))"
   ]
  },
  {
   "cell_type": "code",
   "execution_count": 6,
   "id": "afbddcf7",
   "metadata": {},
   "outputs": [
    {
     "name": "stdout",
     "output_type": "stream",
     "text": [
      "Weights = \n",
      " [[160]\n",
      " [120]\n",
      " [190]\n",
      " [140]]\n"
     ]
    }
   ],
   "source": [
    "# 3.3 Applying weights (Scalar Multiplication)\n",
    "\n",
    "c = 2\n",
    "Math_col = np.array([[80],[60],[95],[70]])\n",
    "\n",
    "scalar_mult = c * Math_col\n",
    "\n",
    "print(f'Weights = \\n {scalar_mult}')"
   ]
  },
  {
   "cell_type": "code",
   "execution_count": 7,
   "id": "40555680",
   "metadata": {},
   "outputs": [
    {
     "name": "stdout",
     "output_type": "stream",
     "text": [
      "Average mean =  [76.25 75.75 80.5 ]\n"
     ]
    }
   ],
   "source": [
    "# 3.4 Calculate the average mean \n",
    "\n",
    "print('Average mean = ', np.mean(A, axis=0))"
   ]
  },
  {
   "cell_type": "code",
   "execution_count": 8,
   "id": "a58416f1",
   "metadata": {},
   "outputs": [
    {
     "data": {
      "text/plain": [
       "array([[79. ],\n",
       "       [70.5],\n",
       "       [92.3],\n",
       "       [66. ]])"
      ]
     },
     "execution_count": 8,
     "metadata": {},
     "output_type": "execute_result"
    }
   ],
   "source": [
    "#3.5 Final Grades Using Matrix Multiplication\n",
    "\n",
    "Weight_vector = np.array([[0.5],[0.3],[0.2]])\n",
    "\n",
    "A= np.array([[80, 70, 90], \n",
    "             [60, 85, 75], \n",
    "             [95, 88, 92], \n",
    "             [70, 60, 65]])\n",
    "\n",
    "#Multiplying the matrix A by the weight\n",
    "\n",
    "MatriX_Mul = A @ Weight_vector\n",
    "MatriX_Mul"
   ]
  },
  {
   "cell_type": "code",
   "execution_count": 9,
   "id": "5dc87dc2",
   "metadata": {},
   "outputs": [
    {
     "data": {
      "text/plain": [
       "array([ 20, -15,  15])"
      ]
     },
     "execution_count": 9,
     "metadata": {},
     "output_type": "execute_result"
    }
   ],
   "source": [
    "# 3.6 Comparing Students (Vector Subtraction)\n",
    "\n",
    "# lets compare student 1 and student 2\n",
    "\n",
    "student_1 = np.array([80, 70, 90])\n",
    "student_2 = np.array([60, 85, 75])\n",
    "\n",
    "Vector_subtraction = student_1 - student_2\n",
    "Vector_subtraction"
   ]
  }
 ],
 "metadata": {
  "kernelspec": {
   "display_name": "ridwan (3.13.5)",
   "language": "python",
   "name": "python3"
  },
  "language_info": {
   "codemirror_mode": {
    "name": "ipython",
    "version": 3
   },
   "file_extension": ".py",
   "mimetype": "text/x-python",
   "name": "python",
   "nbconvert_exporter": "python",
   "pygments_lexer": "ipython3",
   "version": "3.13.5"
  }
 },
 "nbformat": 4,
 "nbformat_minor": 5
}
