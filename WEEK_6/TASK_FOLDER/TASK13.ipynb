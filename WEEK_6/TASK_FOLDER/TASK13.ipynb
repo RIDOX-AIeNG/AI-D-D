{
 "cells": [
  {
   "cell_type": "markdown",
   "id": "40e64976",
   "metadata": {},
   "source": [
    "**Question 1**\n",
    "\n",
    "- Create a 6x6 Numpy array\n"
   ]
  },
  {
   "cell_type": "code",
   "execution_count": 1,
   "id": "5d526f15",
   "metadata": {},
   "outputs": [],
   "source": [
    "import numpy as np"
   ]
  },
  {
   "cell_type": "code",
   "execution_count": 6,
   "id": "027dde0d",
   "metadata": {},
   "outputs": [
    {
     "name": "stdout",
     "output_type": "stream",
     "text": [
      "[[42 25 10 11 12 27]\n",
      " [ 7 29  4 41 18 36]\n",
      " [30 13 49 49 11 34]\n",
      " [40 22 33 16 14 20]\n",
      " [ 2 27 20 14 42 10]\n",
      " [15 22 15 14 44 33]]\n"
     ]
    }
   ],
   "source": [
    "arr = np.random.randint(1,50,[6,6])\n",
    "print(arr)"
   ]
  },
  {
   "cell_type": "markdown",
   "id": "a6b07b5f",
   "metadata": {},
   "source": [
    "**Question 2**\n",
    "- Extract the first two rows and the last three columns"
   ]
  },
  {
   "cell_type": "code",
   "execution_count": null,
   "id": "28060050",
   "metadata": {},
   "outputs": [
    {
     "name": "stdout",
     "output_type": "stream",
     "text": [
      "[[42 25 10 11 12 27]\n",
      " [ 7 29  4 41 18 36]]\n"
     ]
    }
   ],
   "source": [
    "#The first two rows\n",
    "print(arr[0:2])"
   ]
  },
  {
   "cell_type": "code",
   "execution_count": 11,
   "id": "9d1d1952",
   "metadata": {},
   "outputs": [
    {
     "name": "stdout",
     "output_type": "stream",
     "text": [
      "[[11 12 27]\n",
      " [41 18 36]\n",
      " [49 11 34]\n",
      " [16 14 20]\n",
      " [14 42 10]\n",
      " [14 44 33]]\n"
     ]
    }
   ],
   "source": [
    "#The last three columns\n",
    "print(arr[:, 3:])"
   ]
  },
  {
   "cell_type": "code",
   "execution_count": 14,
   "id": "24c63fbb",
   "metadata": {},
   "outputs": [
    {
     "name": "stdout",
     "output_type": "stream",
     "text": [
      "[42 10 12  4 18 36 30 34 40 22 16 14 20  2 20 14 42 10 22 14 44]\n"
     ]
    }
   ],
   "source": [
    "# All the even numbers in the array\n",
    "even_num = (arr % 2 == 0)\n",
    "print(arr[even_num])"
   ]
  },
  {
   "cell_type": "markdown",
   "id": "dbc0739d",
   "metadata": {},
   "source": [
    "**Question 3**\n",
    "- Perform array transformation"
   ]
  },
  {
   "cell_type": "code",
   "execution_count": 15,
   "id": "955b25ca",
   "metadata": {},
   "outputs": [
    {
     "name": "stdout",
     "output_type": "stream",
     "text": [
      "[[[42 25 10 11 12 27]\n",
      "  [ 7 29  4 41 18 36]]\n",
      "\n",
      " [[30 13 49 49 11 34]\n",
      "  [40 22 33 16 14 20]]\n",
      "\n",
      " [[ 2 27 20 14 42 10]\n",
      "  [15 22 15 14 44 33]]]\n"
     ]
    }
   ],
   "source": [
    "reshape = arr.reshape(3,2,6)\n",
    "print(reshape)"
   ]
  },
  {
   "cell_type": "markdown",
   "id": "774d6ec2",
   "metadata": {},
   "source": [
    "- flattening"
   ]
  },
  {
   "cell_type": "code",
   "execution_count": 16,
   "id": "90b7428e",
   "metadata": {},
   "outputs": [
    {
     "name": "stdout",
     "output_type": "stream",
     "text": [
      "[42 25 10 11 12 27  7 29  4 41 18 36 30 13 49 49 11 34 40 22 33 16 14 20\n",
      "  2 27 20 14 42 10 15 22 15 14 44 33]\n"
     ]
    }
   ],
   "source": [
    "# Flatten the reshaped array back to 1D\n",
    "\n",
    "flattened = reshape.flatten()\n",
    "print(flattened)"
   ]
  },
  {
   "cell_type": "markdown",
   "id": "1907a4fb",
   "metadata": {},
   "source": [
    "**Question 4**\n",
    "- Generate a 4x4 matrix and replace the diagonals with numbers from 10 to 40 with a step of 10."
   ]
  },
  {
   "cell_type": "code",
   "execution_count": 29,
   "id": "557b93d7",
   "metadata": {},
   "outputs": [
    {
     "name": "stdout",
     "output_type": "stream",
     "text": [
      "[[10.  0.  0.  0.]\n",
      " [ 0. 20.  0.  0.]\n",
      " [ 0.  0. 30.  0.]\n",
      " [ 0.  0.  0. 40.]]\n"
     ]
    }
   ],
   "source": [
    "identity = np.eye(4)\n",
    "diagonal_arr = np.arange(10,50,10)\n",
    "np.fill_diagonal(identity, diagonal_arr)\n",
    "print(identity)\n"
   ]
  },
  {
   "cell_type": "markdown",
   "id": "bb72fdcd",
   "metadata": {},
   "source": [
    "**Question 5**\n",
    "- Perform a matrix multiplication between a 3x4 matrix of random integers(1-10)"
   ]
  },
  {
   "cell_type": "code",
   "execution_count": 26,
   "id": "a6f51ca8",
   "metadata": {},
   "outputs": [
    {
     "name": "stdout",
     "output_type": "stream",
     "text": [
      "[[3 2 1 7]\n",
      " [3 5 7 5]\n",
      " [8 4 3 6]]\n",
      "[[6 5 4]\n",
      " [6 3 8]\n",
      " [4 7 8]\n",
      " [9 8 9]]\n",
      "[[18 10  4 42]\n",
      " [ 9 40 28 35]\n",
      " [64 36 24 54]]\n"
     ]
    }
   ],
   "source": [
    "arr1 = np.random.randint(1,10,[3,4])\n",
    "arr2 = np.random.randint(1,10,[4,3])\n",
    "flAT = arr2.flatten()\n",
    "reshape = flAT.reshape(3,4)\n",
    "print(arr1)\n",
    "print(arr2)\n",
    "print(arr1 * reshape)"
   ]
  },
  {
   "cell_type": "markdown",
   "id": "ab3c4b6c",
   "metadata": {},
   "source": [
    "**Question 6**\n",
    "- Create a function that takes a 2d NumPy array as input and returns a new array where: All even numbers are squared. \n"
   ]
  },
  {
   "cell_type": "code",
   "execution_count": 1,
   "id": "a4a91c7d",
   "metadata": {},
   "outputs": [
    {
     "ename": "ValueError",
     "evalue": "invalid literal for int() with base 10: ''",
     "output_type": "error",
     "traceback": [
      "\u001b[31m---------------------------------------------------------------------------\u001b[39m",
      "\u001b[31mValueError\u001b[39m                                Traceback (most recent call last)",
      "\u001b[36mCell\u001b[39m\u001b[36m \u001b[39m\u001b[32mIn[1]\u001b[39m\u001b[32m, line 13\u001b[39m\n\u001b[32m     11\u001b[39m     odd_arr = np.where(square_arr %\u001b[32m2\u001b[39m != \u001b[32m0\u001b[39m, -\u001b[32m1\u001b[39m, square_arr)\n\u001b[32m     12\u001b[39m     \u001b[38;5;28;01mreturn\u001b[39;00m(odd_arr)\n\u001b[32m---> \u001b[39m\u001b[32m13\u001b[39m \u001b[43marray_op\u001b[49m\u001b[43m(\u001b[49m\u001b[43m)\u001b[49m\n",
      "\u001b[36mCell\u001b[39m\u001b[36m \u001b[39m\u001b[32mIn[1]\u001b[39m\u001b[32m, line 7\u001b[39m, in \u001b[36marray_op\u001b[39m\u001b[34m()\u001b[39m\n\u001b[32m      5\u001b[39m \u001b[38;5;28;01mfor\u001b[39;00m i \u001b[38;5;129;01min\u001b[39;00m \u001b[38;5;28mrange\u001b[39m(x):\n\u001b[32m      6\u001b[39m     \u001b[38;5;28;01mfor\u001b[39;00m j \u001b[38;5;129;01min\u001b[39;00m \u001b[38;5;28mrange\u001b[39m(y):\n\u001b[32m----> \u001b[39m\u001b[32m7\u001b[39m         arr.append(\u001b[38;5;28;43mint\u001b[39;49m\u001b[43m(\u001b[49m\u001b[38;5;28;43minput\u001b[39;49m\u001b[43m(\u001b[49m\u001b[33;43mf\u001b[39;49m\u001b[33;43m'\u001b[39;49m\u001b[33;43mvalue at row \u001b[39;49m\u001b[38;5;132;43;01m{\u001b[39;49;00m\u001b[43mi\u001b[49m\u001b[38;5;132;43;01m}\u001b[39;49;00m\u001b[33;43m and columnn \u001b[39;49m\u001b[38;5;132;43;01m{\u001b[39;49;00m\u001b[43mj\u001b[49m\u001b[38;5;132;43;01m}\u001b[39;49;00m\u001b[33;43m'\u001b[39;49m\u001b[43m)\u001b[49m\u001b[43m)\u001b[49m)\n\u001b[32m      8\u001b[39m array = np.array(arr).reshape(x,y)\n\u001b[32m     10\u001b[39m square_arr = np.where(array % \u001b[32m2\u001b[39m == \u001b[32m0\u001b[39m, array ** \u001b[32m2\u001b[39m, array)\n",
      "\u001b[31mValueError\u001b[39m: invalid literal for int() with base 10: ''"
     ]
    }
   ],
   "source": [
    "def array_op():\n",
    "    x = int(input(\"Enter number of rows: \"))\n",
    "    y = int(input(\"Enter number of columns: \"))\n",
    "    arr = []\n",
    "    for i in range(x):\n",
    "        for j in range(y):\n",
    "            arr.append(int(input(f'value at row {i} and columnn {j}')))\n",
    "    array = np.array(arr).reshape(x,y)\n",
    "\n",
    "    square_arr = np.where(array % 2 == 0, array ** 2, array)\n",
    "    odd_arr = np.where(square_arr %2 != 0, -1, square_arr)\n",
    "    return(odd_arr)\n",
    "array_op()"
   ]
  }
 ],
 "metadata": {
  "kernelspec": {
   "display_name": "ridwan (3.13.5)",
   "language": "python",
   "name": "python3"
  },
  "language_info": {
   "codemirror_mode": {
    "name": "ipython",
    "version": 3
   },
   "file_extension": ".py",
   "mimetype": "text/x-python",
   "name": "python",
   "nbconvert_exporter": "python",
   "pygments_lexer": "ipython3",
   "version": "3.13.5"
  }
 },
 "nbformat": 4,
 "nbformat_minor": 5
}
