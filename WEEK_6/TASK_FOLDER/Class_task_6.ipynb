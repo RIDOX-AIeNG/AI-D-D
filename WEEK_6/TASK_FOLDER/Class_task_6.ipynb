{
 "cells": [
  {
   "cell_type": "markdown",
   "id": "1d3f51b2",
   "metadata": {},
   "source": [
    "## Class Task 6 ##"
   ]
  },
  {
   "cell_type": "markdown",
   "id": "16665754",
   "metadata": {},
   "source": [
    "* Name: Osho Ridwanullah \n",
    "* Track: AI-ENGINEERING"
   ]
  },
  {
   "cell_type": "markdown",
   "id": "149eef34",
   "metadata": {},
   "source": [
    "1: Class Test Scores\n",
    "\n",
    "The following are the Mathematics test scores (out of 20) for a class of 15 students:\n",
    " 5, 8, 10, 12, 12, 12, 13, 14, 14, 15, 16, 18, 18, 20, 20\n",
    "- Find the mean, median, and mode of the scores.\n",
    "\n",
    "\n",
    "- If the lowest score (5) was wrongly recorded and should have been 10, how would the mean change? Would the median or mode change? Explain."
   ]
  },
  {
   "cell_type": "markdown",
   "id": "43166f4d",
   "metadata": {},
   "source": [
    "**Mean**\n",
    "$$\n",
    "Mean = \\frac{1}{n}\\sum^n_{i = 1}{x_i}\n",
    "$$\n",
    "\n",
    "test scores = 5, 8, 10, 12, 12, 12, 13, 14, 14, 15, 16, 18, 18, 20, 20\n",
    "\n",
    "number of scores = 15\n",
    "$$\n",
    "= \\frac{5+8+10+12+12+12+13+14+14+15+16+18+18+20+20}{15}\n",
    "$$\n",
    "\n",
    "= 13.8\n",
    "\n",
    "The mean value is 13.8"
   ]
  },
  {
   "cell_type": "markdown",
   "id": "ea52d6f8",
   "metadata": {},
   "source": [
    "**Median**\n",
    "\n",
    "test scores = 5, 8, 10, 12, 12, 12, 13, 14, 14, 15, 16, 18, 18, 20, 20\n",
    "\n",
    "number of scores = 15\n",
    "\n",
    "The median which is the middle value is 14\n"
   ]
  },
  {
   "cell_type": "markdown",
   "id": "9bcaf8e2",
   "metadata": {},
   "source": [
    "**Mode**\n",
    "\n",
    "test scores = 5, 8, 10, 12, 12, 12, 13, 14, 14, 15, 16, 18, 18, 20, 20\n",
    "\n",
    "number of scores = 15\n",
    "\n",
    "The mode which is the highest occurring value between the number is 12\n",
    "\n",
    "\n"
   ]
  },
  {
   "cell_type": "markdown",
   "id": "ca869a94",
   "metadata": {},
   "source": [
    "- If the lowest score (5) was wrongly recorded and should have been 10, how would the mean change? Would the median or mode change? Explain.\n",
    "\n",
    "\n",
    "**1. Mean**\n",
    "$$\n",
    "Mean = \\frac{1}{n}\\sum^n_{i = 1}{x_i}\n",
    "$$\n",
    "\n",
    "test scores = 10, 8, 10, 12, 12, 12, 13, 14, 14, 15, 16, 18, 18, 20, 20\n",
    "\n",
    "number of scores = 15\n",
    "$$\n",
    "= \\frac{10+8+10+12+12+12+13+14+14+15+16+18+18+20+20}{15}\n",
    "$$\n",
    "\n",
    "= 14.13\n",
    "\n",
    "The mean value is 14.13\n",
    "\n",
    "**2. Median**\n",
    "\n",
    "8, 10, 10, 12, 12, 12, 13, 14, 14, 15, 16, 18, 18, 20, 20\n",
    "\n",
    "\n",
    "The median value would not change. \n",
    "\n",
    "**3. Mode**\n",
    "\n",
    "8, 10, 10, 12, 12, 12, 13, 14, 14, 15, 16, 18, 18, 20, 20\n",
    "\n",
    "The mode value would also not change"
   ]
  },
  {
   "cell_type": "markdown",
   "id": "e4738530",
   "metadata": {},
   "source": [
    "## Question 2"
   ]
  },
  {
   "cell_type": "markdown",
   "id": "47e3f172",
   "metadata": {},
   "source": [
    "2: Daily Commute Times\n",
    "\n",
    "A group of 9 students reported the time (in minutes) it takes them to get to school each day:\n",
    " 15, 20, 20, 25, 25, 30, 60, 65, 120\n",
    "Find the mean, median, and mode of the data.\n",
    "\n",
    "\n",
    "Which measure (mean, median, or mode) do you think best represents the “typical” time it takes students to get to school? Why?\n",
    " (Hint: Think about the effect of the student who takes 120 minutes.)\n"
   ]
  },
  {
   "cell_type": "markdown",
   "id": "4618fa01",
   "metadata": {},
   "source": [
    "**1. Mean**\n",
    "$$\n",
    "Mean = \\frac{1}{n}\\sum^n_{i = 1}{x_i}\n",
    "$$\n",
    "\n",
    "Time taken = 15, 20, 20, 25, 25, 30, 60, 65, 120\n",
    "\n",
    "number of students = 9\n",
    "$$\n",
    "= \\frac{15+20+20+25+25+30+60+65+120}{9}\n",
    "$$\n",
    "\n",
    "The median value is : 42.22\n",
    "\n",
    "\n"
   ]
  },
  {
   "cell_type": "markdown",
   "id": "cfd6d77c",
   "metadata": {},
   "source": [
    "**Median**\n",
    "\n",
    "Time taken = 15, 20, 20, 25, 25, 30, 60, 65, 120\n",
    "\n",
    "number of students = 9\n",
    "\n",
    "The median which is the middle value is 25"
   ]
  },
  {
   "cell_type": "markdown",
   "id": "26a248fb",
   "metadata": {},
   "source": [
    "**Mode**\n",
    "\n",
    "test scores = 15, 20, 20, 25, 25, 30, 60, 65, 120\n",
    "\n",
    "number of students = 9\n",
    "\n",
    "In this we have two numbers occurring twice more than any other number which is 20 and 25.\n",
    "\n",
    "Therefore the modal values are: 20,25"
   ]
  },
  {
   "cell_type": "markdown",
   "id": "37a15ecd",
   "metadata": {},
   "source": [
    "Which measure (mean, median, or mode) do you think best represents the “typical” time it takes students to get to school? Why?\n",
    "\n",
    "**Answer**\n",
    "\n",
    "The median value best represents the typical time it takes students to get to school because at least 50% of the data is less than or equal to (and also greater than or equal to) the median.\n"
   ]
  },
  {
   "cell_type": "markdown",
   "id": "494dc035",
   "metadata": {},
   "source": [
    "## Question 3"
   ]
  },
  {
   "cell_type": "markdown",
   "id": "96f9be32",
   "metadata": {},
   "source": [
    "3: \n",
    "\n",
    "Shoe Sizes\n",
    "\n",
    "The shoe sizes of students in a class are:\n",
    " 38, 39, 38, 40, 41, 42, 39, 39, 40, 38, 37, 39, 40, 41, 42\n",
    "1. Find the mode of the data.\n",
    "\n",
    "\n",
    "2. If a shoe company wants to donate free shoes, which size should they produce most of? Why?\n",
    "\n",
    "\n",
    "3. What if they only want to produce one size that would fit the \"average\" student? Should they use mean, median, or mode? Defend your answer.\n"
   ]
  },
  {
   "cell_type": "markdown",
   "id": "e14a2875",
   "metadata": {},
   "source": [
    "**1. Mode**\n",
    "\n",
    "student shoe size = 38, 39, 38, 40, 41, 42, 39, 39, 40, 38, 37, 39, 40, 41, 42\n",
    "\n",
    "sorted student shoe size = 38, 38,38,39,39,39,39,40,40,40,41,41,42,42\n",
    "\n",
    "The mode of the values is 39 since it occurs more than any other number in the values.\n",
    "\n",
    "\n",
    "**2.  If a shoe company wants to donate free shoes, which size should they produce most of? Why?**\n",
    "\n",
    "*Amswer*\n",
    "\n",
    "The shoe company should produce shoes of size 39 since it occurs that more students use that size more than any other.\n",
    "\n",
    "**3. What if they only want to produce one size that would fit the \"average\" student? Should they use mean, median, or mode? Defend your answer.**\n",
    "\n",
    "If they are looking for the shoe size that would fit the average student it would be advisable to find the average of the shoe sizes, which can be done by using the mean.\n",
    "\n",
    "Therefore they should use the mean.    "
   ]
  }
 ],
 "metadata": {
  "language_info": {
   "name": "python"
  }
 },
 "nbformat": 4,
 "nbformat_minor": 5
}
