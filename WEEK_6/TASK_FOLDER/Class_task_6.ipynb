{
 "cells": [
  {
   "cell_type": "markdown",
   "id": "1d3f51b2",
   "metadata": {},
   "source": [
    "## Class Task 6 ##"
   ]
  },
  {
   "cell_type": "markdown",
   "id": "16665754",
   "metadata": {},
   "source": [
    "* Name: Osho Ridwanullah \n",
    "* Track: AI-ENGINEERING"
   ]
  },
  {
   "cell_type": "markdown",
   "id": "149eef34",
   "metadata": {},
   "source": [
    "1: Class Test Scores\n",
    "\n",
    "The following are the Mathematics test scores (out of 20) for a class of 15 students:\n",
    " 5, 8, 10, 12, 12, 12, 13, 14, 14, 15, 16, 18, 18, 20, 20\n",
    "- Find the mean, median, and mode of the scores.\n",
    "\n",
    "\n",
    "- If the lowest score (5) was wrongly recorded and should have been 10, how would the mean change? Would the median or mode change? Explain."
   ]
  },
  {
   "cell_type": "markdown",
   "id": "43166f4d",
   "metadata": {},
   "source": [
    "**Mean**\n",
    "$$\n",
    "Mean = \\frac{1}{n}\\sum^n_{i = 1}{x_i}\n",
    "$$\n",
    "\n",
    "test scores = 5, 8, 10, 12, 12, 12, 13, 14, 14, 15, 16, 18, 18, 20, 20\n",
    "\n",
    "number of scores = 15\n",
    "$$\n",
    "= \\frac{5+8+10+12+12+12+13+14+14+15+16+18+18+20+20}{15}\n",
    "$$\n",
    "\n",
    "= 13.8\n",
    "\n",
    "The mean value is 13.8"
   ]
  },
  {
   "cell_type": "markdown",
   "id": "ea52d6f8",
   "metadata": {},
   "source": [
    "**Median**\n",
    "\n",
    "test scores = 5, 8, 10, 12, 12, 12, 13, 14, 14, 15, 16, 18, 18, 20, 20\n",
    "\n",
    "number of scores = 15\n",
    "\n",
    "The median which is the middle value is 14\n"
   ]
  },
  {
   "cell_type": "markdown",
   "id": "9bcaf8e2",
   "metadata": {},
   "source": [
    "**Mode**\n",
    "\n",
    "test scores = 5, 8, 10, 12, 12, 12, 13, 14, 14, 15, 16, 18, 18, 20, 20\n",
    "\n",
    "number of scores = 15\n",
    "\n",
    "The mode which is the highest occurring value between the number is 12\n",
    "\n",
    "\n"
   ]
  },
  {
   "cell_type": "markdown",
   "id": "ca869a94",
   "metadata": {},
   "source": [
    "- If the lowest score (5) was wrongly recorded and should have been 10, how would the mean change? Would the median or mode change? Explain.\n",
    "\n",
    "\n",
    "**1. Mean**\n",
    "$$\n",
    "Mean = \\frac{1}{n}\\sum^n_{i = 1}{x_i}\n",
    "$$\n",
    "\n",
    "test scores = 10, 8, 10, 12, 12, 12, 13, 14, 14, 15, 16, 18, 18, 20, 20\n",
    "\n",
    "number of scores = 15\n",
    "$$\n",
    "= \\frac{10+8+10+12+12+12+13+14+14+15+16+18+18+20+20}{15}\n",
    "$$\n",
    "\n",
    "= 14.13\n",
    "\n",
    "The mean value is 14.13\n",
    "\n",
    "**2. Median**\n",
    "\n",
    "8, 10, 10, 12, 12, 12, 13, 14, 14, 15, 16, 18, 18, 20, 20\n",
    "\n",
    "\n",
    "The median value would not change. \n",
    "\n",
    "**3. Mode**\n",
    "\n",
    "8, 10, 10, 12, 12, 12, 13, 14, 14, 15, 16, 18, 18, 20, 20\n",
    "\n",
    "The mode value would also not change"
   ]
  },
  {
   "cell_type": "markdown",
   "id": "47e3f172",
   "metadata": {},
   "source": [
    "2: Daily Commute Times\n",
    "\n",
    "A group of 9 students reported the time (in minutes) it takes them to get to school each day:\n",
    " 15, 20, 20, 25, 25, 30, 60, 65, 120\n",
    "Find the mean, median, and mode of the data.\n",
    "\n",
    "\n",
    "Which measure (mean, median, or mode) do you think best represents the “typical” time it takes students to get to school? Why?\n",
    " (Hint: Think about the effect of the student who takes 120 minutes.)\n"
   ]
  },
  {
   "cell_type": "markdown",
   "id": "4618fa01",
   "metadata": {},
   "source": [
    "**1. Mean**\n",
    "$$\n",
    "Mean = \\frac{1}{n}\\sum^n_{i = 1}{x_i}\n",
    "$$\n",
    "\n",
    "Time taken = 15, 20, 20, 25, 25, 30, 60, 65, 120\n",
    "\n",
    "number of students = 9\n",
    "$$\n",
    "= \\frac{15+20+20+25+25+30+60+65+120}{9}\n",
    "$$\n",
    "\n",
    "The median value is : 42.22\n",
    "\n",
    "\n"
   ]
  },
  {
   "cell_type": "markdown",
   "id": "cfd6d77c",
   "metadata": {},
   "source": [
    "**Median**\n",
    "\n",
    "Time taken = 15, 20, 20, 25, 25, 30, 60, 65, 120\n",
    "\n",
    "number of students = 9\n",
    "\n",
    "The median which is the middle value is 25"
   ]
  },
  {
   "cell_type": "markdown",
   "id": "26a248fb",
   "metadata": {},
   "source": [
    "**Mode**\n",
    "\n",
    "test scores = 15, 20, 20, 25, 25, 30, 60, 65, 120\n",
    "\n",
    "number of scores = 15\n",
    "\n",
    "The mode which is the highest occurring value between the number is 12"
   ]
  }
 ],
 "metadata": {
  "language_info": {
   "name": "python"
  }
 },
 "nbformat": 4,
 "nbformat_minor": 5
}
