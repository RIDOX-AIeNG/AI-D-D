{
 "cells": [
  {
   "cell_type": "code",
   "execution_count": 1,
   "id": "770e071d",
   "metadata": {},
   "outputs": [
    {
     "name": "stdout",
     "output_type": "stream",
     "text": [
      "Numpy version: 2.3.3\n"
     ]
    }
   ],
   "source": [
    "import numpy as np\n",
    "\n",
    "import matplotlib as plt\n",
    "\n",
    "import time\n",
    "\n",
    "# Check Numpy version\n",
    "print(f\"Numpy version: {np.__version__}\")\n",
    "\n",
    "# Display settings for cleaner output\n",
    "np.set_printoptions(precision=3, suppress=True)\n"
   ]
  },
  {
   "cell_type": "markdown",
   "id": "a8f7f6c5",
   "metadata": {},
   "source": [
    "#### **Understanding Numpy**\n"
   ]
  },
  {
   "cell_type": "markdown",
   "id": "0634bc9d",
   "metadata": {},
   "source": [
    "- Numpy (Numerical Python) is the foundation library for scientific computing in python. it provides powerful N-dimensional array object and tools for working with these arrays.\n",
    "\n",
    "- We import NumPy with the standard alias `np`. The print options make arrays display more readably by limiting decimal places and avoiding scientific notation for numbers like 0.001\n",
    "\n",
    "**Numpy Data Structure**\n",
    "\n",
    "- Numpy arrays are fundamentally from pythons lists:\n",
    "  - Homogenous: All elements must be the same data type\n",
    "    Fixed size: Size is determined at creation (though you can create new arrays )\n",
    "- Memory efficient: Elements stored in contiguous memory blocks\n",
    "- Vectorizeed operations: Mathematical operations work on entire arrays"
   ]
  },
  {
   "cell_type": "markdown",
   "id": "f78ca2e4",
   "metadata": {},
   "source": []
  },
  {
   "cell_type": "code",
   "execution_count": 2,
   "id": "0e55937d",
   "metadata": {},
   "outputs": [
    {
     "name": "stdout",
     "output_type": "stream",
     "text": [
      "1D array: [1 2 3 4 5]\n",
      "2D array:\n",
      " [[1 2 3]\n",
      " [4 5 6]]\n",
      "3D array:\n",
      " [[[1 2]\n",
      "  [3 4]]\n",
      "\n",
      " [[5 6]\n",
      "  [7 8]]]\n"
     ]
    }
   ],
   "source": [
    "#Creating arrays from python lists \n",
    "# 1D array: A simple sequence of numbers \n",
    "arr1d = np.array([1,2,3,4,5])\n",
    "\n",
    "# 2D array: Think of this as a matrix or table with rows and columns\n",
    "arr2d = np.array([[1,2,3],\n",
    "                  [4,5,6]])\n",
    "# 3D array: like a stack of 2D arrays - useful for images, time series, etc.\n",
    "arr3d = np.array([[[1, 2], [3, 4]],\n",
    "                 [[5, 6], [7, 8]]])\n",
    "\n",
    "print(\"1D array:\", arr1d)\n",
    "print(\"2D array:\\n\", arr2d)\n",
    "print(\"3D array:\\n\", arr3d)"
   ]
  },
  {
   "cell_type": "markdown",
   "id": "90687e98",
   "metadata": {},
   "source": [
    "When you pass a nested list to `np.array()`, Numpy automatically determines the dimensions. The 1D array is like a single row, 2D is like a spreadsheeet, and 3D is like multiple spreadsheets stacked together "
   ]
  },
  {
   "cell_type": "code",
   "execution_count": 17,
   "id": "0b3c9a93",
   "metadata": {},
   "outputs": [
    {
     "name": "stdout",
     "output_type": "stream",
     "text": [
      "Zeros array (3x4):\n",
      " [[0. 0. 0. 0.]\n",
      " [0. 0. 0. 0.]\n",
      " [0. 0. 0. 0.]]\n",
      "Ones arrays shape: (2, 3, 4)\n",
      "Empty array (contains random values):\n",
      " [[0.25 0.5 ]\n",
      " [0.75 1.  ]]\n"
     ]
    }
   ],
   "source": [
    "# Creating arrays filled with zeros - useful for initializing arrays \n",
    "# Shape (3, 4) means 3 rows and 4 columns\n",
    "zeros = np.zeros((3, 4))\n",
    "\n",
    "# Creating arrays filled with ones - often used as starting points\n",
    "ones = np.ones((2, 3, 4))     #3D array: 2layers, 3 rows, 4 columns\n",
    "\n",
    "#Empty array - faster than zeros/ones but contains random values \n",
    "#Use when ypu nwill immediately fill array with real data\n",
    "empty = np.empty((2, 2))\n",
    "\n",
    "print(\"Zeros array (3x4):\\n\", zeros)\n",
    "print('Ones arrays shape:', ones.shape)\n",
    "print(\"Empty array (contains random values):\\n\", empty)"
   ]
  },
  {
   "cell_type": "markdown",
   "id": "d7a1b1c9",
   "metadata": {},
   "source": [
    "`zeros` and `ones` are memory-efficient ways to create arrays of specific sizes. `empty()` is fastest but contains garbage values, so onlyb use it when you'll immediately overwrite the contents. "
   ]
  },
  {
   "cell_type": "code",
   "execution_count": 22,
   "id": "17de052d",
   "metadata": {},
   "outputs": [
    {
     "name": "stdout",
     "output_type": "stream",
     "text": [
      "Range array: [0 2 4 6 8]\n",
      "Linspace array: [0.  0.5 1.  1.5 2. ]\n",
      "Logspace array: [  1.      3.162  10.     31.623 100.   ]\n"
     ]
    }
   ],
   "source": [
    "# Range arrays - like Pythons range() but more powerful\n",
    "range_arr = np.arange(0, 10, 2) #start, stop, step : [0, 2, 4, 6, 8]\n",
    "print(\"Range array:\", range_arr)\n",
    "\n",
    "# Linearly spaced arrays - divide a r4ange into equal parts \n",
    "# From 0 to 1 with exactly 5 points (including endpoints)\n",
    "linespace_arr = np.linspace(0, 2, 5)\n",
    "print(\"Linspace array:\", linespace_arr)\n",
    "\n",
    "# Logarithmically spaced arrays - useful for scientific data\n",
    "# From 10^0 to 10^2 (1 to 100) with 5 points\n",
    "logspace_arr = np.logspace(0, 2, 5)\n",
    "print(\"Logspace array:\", logspace_arr)"
   ]
  },
  {
   "cell_type": "markdown",
   "id": "63f89ce0",
   "metadata": {},
   "source": [
    "- `arange()` works like Python's range() but returns a Numpy array and works with floats.\n",
    "- `arange()` divides a range into equal segmentsn - useful for plotting smooth curves.\n",
    "- `logspace()` creates points that are evenly spaced on a logarithmic scale."
   ]
  },
  {
   "cell_type": "code",
   "execution_count": 21,
   "id": "ca447949",
   "metadata": {},
   "outputs": [
    {
     "name": "stdout",
     "output_type": "stream",
     "text": [
      "Identity matrix:\n",
      " [[1. 0. 0. 0.]\n",
      " [0. 1. 0. 0.]\n",
      " [0. 0. 1. 0.]\n",
      " [0. 0. 0. 1.]]\n",
      "Diagonal matrix:\n",
      " [[1 0 0 0]\n",
      " [0 2 0 0]\n",
      " [0 0 3 0]\n",
      " [0 0 0 4]]\n",
      "Full array (filled with 7):\n",
      " [[7 7 7]\n",
      " [7 7 7]\n",
      " [7 7 7]]\n"
     ]
    }
   ],
   "source": [
    "#Identity matrix - diagonal of ones, zeros elsewhere\n",
    "\n",
    "# Essential for linear algebra operations\n",
    "identity = np.eye(4)    # 4x4 identity matrix\n",
    "\n",
    "# Diagonal matrix - put values on the diagonal\n",
    "diagonal = np.diag([1,2,3,4])\n",
    "\n",
    "#Array7 filled with a specfic value\n",
    "full_arr = np.full((3,3), 7)     # 3x3 array filled with 7\n",
    "\n",
    "print(\"Identity matrix:\\n\", identity)\n",
    "print(\"Diagonal matrix:\\n\", diagonal)\n",
    "print(\"Full array (filled with 7):\\n\", full_arr)\n",
    "\n"
   ]
  },
  {
   "cell_type": "markdown",
   "id": "438acc56",
   "metadata": {},
   "source": [
    "Identity matrices are crucial in linear algebra - multiplying any matrix by an identity matrix returns the original matrix. Diagonal matrices are useful for scaling operations"
   ]
  },
  {
   "cell_type": "markdown",
   "id": "2e0dcee0",
   "metadata": {},
   "source": [
    "**Numpy Data Types (dtypes)**\n",
    "- Understanding data types is crucial for memeory efficiency and numerical precision."
   ]
  },
  {
   "cell_type": "code",
   "execution_count": 5,
   "id": "06a76aec",
   "metadata": {},
   "outputs": [
    {
     "name": "stdout",
     "output_type": "stream",
     "text": [
      "Integer array dtype: int32\n",
      "float array dtype: float64\n",
      "Boolean array dtype: bool\n",
      "Converted array dtype: float32\n",
      "int32 uses 4 bytes per element\n",
      "float64 uses 8 bytes per element\n"
     ]
    }
   ],
   "source": [
    "#Explicit data types is crucial memory usage and preccision\n",
    "int_arr = np.array([1, 2, 3], dtype=np.int32)  #32-bit integers\n",
    "float_arr = np.array([1.2,3], dtype=np.float64) # 64-bits floats (double precision)\n",
    "bool_arr = np.array([True, False, True], dtype=np.bool_)  #boolean values\n",
    "\n",
    "#Types conversion -change memory usage and precision\n",
    "converted = int_arr.astype(np.float32)  #convert to 32-bit float\n",
    "\n",
    "print(\"Integer array dtype:\", int_arr.dtype)\n",
    "print(\"float array dtype:\", float_arr.dtype)\n",
    "print(\"Boolean array dtype:\", bool_arr.dtype)\n",
    "print('Converted array dtype:', converted .dtype)\n",
    "\n",
    "#Memory usage comparison \n",
    "print(f\"int32 uses {int_arr.itemsize} bytes per element\")\n",
    "print(f\"float64 uses {float_arr.itemsize} bytes per element\")"
   ]
  }
 ],
 "metadata": {
  "kernelspec": {
   "display_name": "ridwan (3.13.5)",
   "language": "python",
   "name": "python3"
  },
  "language_info": {
   "codemirror_mode": {
    "name": "ipython",
    "version": 3
   },
   "file_extension": ".py",
   "mimetype": "text/x-python",
   "name": "python",
   "nbconvert_exporter": "python",
   "pygments_lexer": "ipython3",
   "version": "3.13.5"
  }
 },
 "nbformat": 4,
 "nbformat_minor": 5
}
