{
 "cells": [
  {
   "cell_type": "markdown",
   "id": "d74db48c",
   "metadata": {},
   "source": [
    "### **Statistics**"
   ]
  },
  {
   "cell_type": "markdown",
   "id": "ccec6fb5",
   "metadata": {},
   "source": [
    "- Statistics is the science of **collecting**, **organizing**, **analyzing**, **interpreting**, and **presenting data** to make **informed decisions**. \n",
    "\n",
    "- Lets think of it as a toolkit that helps us make sense of numbers and discover patterns in the world around us."
   ]
  },
  {
   "cell_type": "markdown",
   "id": "3e55489c",
   "metadata": {},
   "source": [
    "**There are two main branches**\n",
    "\n",
    "1. **Descriptive Statistics**\n",
    "\n",
    "- Deals with summarizing, organizing, and presenting data we already have.\n",
    "\n",
    "- Uses measures like mean (average), median, mode, range, variance, and standard deviation to describe a dataset.\n",
    "\n",
    "- Also involves graphs, charts, and tables for easy visualization.\n",
    "\n",
    "- For example calculating the average coding hours of AI engineering students.\n",
    "\n",
    "2. **Inferential Statistics**\n",
    "\n",
    "- Uses data from a sample to make conclusions or predictions about a larger population.\n",
    "\n",
    "- Involves methods like correlation, regression, hypothesis testing, chi-square tests, t-tests, and ANOVA.\n",
    "\n",
    "- Helps in data-driven decision making by testing ideas and estimating outcomes with a level of certainty.\n",
    "\n",
    "- Foundation of predictive analysis, guiding policymakers and organizations in making strategic decisions.\n"
   ]
  },
  {
   "cell_type": "markdown",
   "id": "69cd6a7e",
   "metadata": {},
   "source": [
    "**Why Statistics**\n",
    "- Beyond the confusing formulas and outrageous numbers, statistics will help us andswer questions like;\n",
    "\n",
    "   - What's typical? (measures of center)\n",
    "   - How much variation is there?(measures of spread)\n",
    "   - Is this pattern real or just coincidence? (hypothesis testing)\n",
    "   - Can we predict future outcomes?(regression)"
   ]
  },
  {
   "cell_type": "code",
   "execution_count": 1,
   "id": "333a7459",
   "metadata": {},
   "outputs": [],
   "source": [
    "import numpy as np\n",
    "import pandas as pd\n",
    "import matplotlib.pyplot as plt\n",
    "import scipy.stats as stats"
   ]
  },
  {
   "cell_type": "code",
   "execution_count": 22,
   "id": "46b97500",
   "metadata": {},
   "outputs": [],
   "source": [
    "# let's set random seed fro reproducibility\n",
    "np.random.seed(40)"
   ]
  },
  {
   "cell_type": "code",
   "execution_count": 23,
   "id": "a7b6e11d",
   "metadata": {},
   "outputs": [
    {
     "data": {
      "text/plain": [
       "array([ 87.15923732,  70.43250214,  78.66763734,  89.27973866,\n",
       "        80.77793708,  85.02291695,  89.7131645 ,  95.66031395,\n",
       "        72.46346869,  60.40820454,  82.67671681,  60.02987887,\n",
       "        75.37652351,  81.66922793,  93.67561015,  90.40899235,\n",
       "        68.69690819, 104.42824559,  54.52407514,  80.40072209,\n",
       "        62.4943163 ,  57.2790668 ,  68.77558302,  74.78937089,\n",
       "        98.41225467,  79.41717259,  63.28440871,  79.25170238,\n",
       "        67.33258968,  72.03937915,  68.86553843,  71.0382253 ,\n",
       "        57.59787308,  74.7122058 ,  40.05315747,  70.25776064,\n",
       "        82.16099481,  53.05976933,  40.63266623,  83.30965498,\n",
       "        89.51163619,  82.98475059,  67.61919259,  73.5372882 ,\n",
       "        79.96729413,  61.25685047,  74.49746265,  79.22350236,\n",
       "        44.87987472,  73.56476563,  80.20139073,  69.8442207 ,\n",
       "        71.9513029 ,  65.26711906,  55.41536415,  64.49358776,\n",
       "        79.22291681,  87.90829148,  80.48711319,  84.87389833,\n",
       "        69.17282845,  63.2433886 ,  73.19657846,  98.46664735,\n",
       "        68.02682856,  80.29990584,  56.97121722,  54.92470423,\n",
       "        85.75232417,  69.40266848,  85.0397909 ,  65.86684489,\n",
       "        79.16261502,  69.51043773,  87.09326693,  57.55455312,\n",
       "        54.29422031,  71.35771064,  56.62500482,  85.63399827,\n",
       "        74.98099162,  62.77335469,  82.7311196 ,  71.46862397,\n",
       "        92.37733813,  76.84274032,  74.82201165,  92.89172684,\n",
       "        79.93707132,  65.13792242,  76.48496955,  55.03043163,\n",
       "        94.10347259, 102.24262859,  72.19698579,  73.47757972,\n",
       "        85.49577843,  76.24199949,  86.31824544,  77.34164862])"
      ]
     },
     "execution_count": 23,
     "metadata": {},
     "output_type": "execute_result"
    }
   ],
   "source": [
    "# Lets simulate a dataset for AI Engineering students\n",
    "\n",
    "#1. Traditional learning -classroom-based\n",
    "# - lets create it with a 25 hours/week and standard deviation of 5 hours\n",
    "traditional_study_hours = np.random.normal(25, 5, 100)\n",
    "\n",
    "#2. Accelerated learning (project-based and hands-on style)\n",
    "#This one will be a 35 hours/week and a standard deviation of 8 hours.\n",
    "\n",
    "accelerated_study_hours = np.random.normal(35, 8, 100)\n",
    "\n",
    "# Lets generate corresponding performance scores between 0-100\n",
    "\n",
    "#We would let the performance correlate with study hours but has some randomness\n",
    "\n",
    "traditional_scores = np.random.normal(75, 12, 100)  # Mean of 75, SD of 12\n",
    "accelerated_scores = np.random.normal(82, 15, 100) #Mean of 82, SD of 15\n",
    "\n",
    "# Lets generate project completion counts\n",
    "traditional_projects = np.random.poisson(8, 100) #Average 8 ptrojects\n",
    "accelerated_projects = np.random.poisson(12, 100) #Average 12 projects\n",
    "\n",
    "traditional_scores"
   ]
  },
  {
   "cell_type": "code",
   "execution_count": 24,
   "id": "5be1c5a8",
   "metadata": {},
   "outputs": [],
   "source": [
    "#Now, lets create the Dataframe\n",
    "\n",
    "data = pd.DataFrame({\n",
    "    'study_Hours_Per_Week': np.concatenate([traditional_study_hours,accelerated_study_hours]),\n",
    "    'Performance_Score': np.concatenate([traditional_scores,accelerated_scores]),\n",
    "    'Performance_Completed': np.concatenate([traditional_projects, accelerated_projects]),\n",
    "    'Learning_Track': ['Traditional']* 100 + ['Accelerated'] * 100\n",
    "})"
   ]
  },
  {
   "cell_type": "code",
   "execution_count": null,
   "id": "3c3f0e26",
   "metadata": {},
   "outputs": [
    {
     "data": {
      "text/html": [
       "<div>\n",
       "<style scoped>\n",
       "    .dataframe tbody tr th:only-of-type {\n",
       "        vertical-align: middle;\n",
       "    }\n",
       "\n",
       "    .dataframe tbody tr th {\n",
       "        vertical-align: top;\n",
       "    }\n",
       "\n",
       "    .dataframe thead th {\n",
       "        text-align: right;\n",
       "    }\n",
       "</style>\n",
       "<table border=\"1\" class=\"dataframe\">\n",
       "  <thead>\n",
       "    <tr style=\"text-align: right;\">\n",
       "      <th></th>\n",
       "      <th>study_Hours_Per_Week</th>\n",
       "      <th>Performance_Score</th>\n",
       "      <th>Performance_Completed</th>\n",
       "      <th>Learning_Track</th>\n",
       "    </tr>\n",
       "  </thead>\n",
       "  <tbody>\n",
       "    <tr>\n",
       "      <th>0</th>\n",
       "      <td>21.962262</td>\n",
       "      <td>87.159237</td>\n",
       "      <td>9</td>\n",
       "      <td>Traditional</td>\n",
       "    </tr>\n",
       "    <tr>\n",
       "      <th>1</th>\n",
       "      <td>24.369318</td>\n",
       "      <td>70.432502</td>\n",
       "      <td>8</td>\n",
       "      <td>Traditional</td>\n",
       "    </tr>\n",
       "    <tr>\n",
       "      <th>2</th>\n",
       "      <td>21.576968</td>\n",
       "      <td>78.667637</td>\n",
       "      <td>2</td>\n",
       "      <td>Traditional</td>\n",
       "    </tr>\n",
       "    <tr>\n",
       "      <th>3</th>\n",
       "      <td>29.643574</td>\n",
       "      <td>89.279739</td>\n",
       "      <td>13</td>\n",
       "      <td>Traditional</td>\n",
       "    </tr>\n",
       "    <tr>\n",
       "      <th>4</th>\n",
       "      <td>15.777995</td>\n",
       "      <td>80.777937</td>\n",
       "      <td>8</td>\n",
       "      <td>Traditional</td>\n",
       "    </tr>\n",
       "  </tbody>\n",
       "</table>\n",
       "</div>"
      ],
      "text/plain": [
       "   study_Hours_Per_Week  Performance_Score  Performance_Completed  \\\n",
       "0             21.962262          87.159237                      9   \n",
       "1             24.369318          70.432502                      8   \n",
       "2             21.576968          78.667637                      2   \n",
       "3             29.643574          89.279739                     13   \n",
       "4             15.777995          80.777937                      8   \n",
       "\n",
       "  Learning_Track  \n",
       "0    Traditional  \n",
       "1    Traditional  \n",
       "2    Traditional  \n",
       "3    Traditional  \n",
       "4    Traditional  "
      ]
     },
     "execution_count": 25,
     "metadata": {},
     "output_type": "execute_result"
    }
   ],
   "source": [
    "data.head() # the first 5"
   ]
  },
  {
   "cell_type": "code",
   "execution_count": null,
   "id": "d8323092",
   "metadata": {},
   "outputs": [
    {
     "data": {
      "text/html": [
       "<div>\n",
       "<style scoped>\n",
       "    .dataframe tbody tr th:only-of-type {\n",
       "        vertical-align: middle;\n",
       "    }\n",
       "\n",
       "    .dataframe tbody tr th {\n",
       "        vertical-align: top;\n",
       "    }\n",
       "\n",
       "    .dataframe thead th {\n",
       "        text-align: right;\n",
       "    }\n",
       "</style>\n",
       "<table border=\"1\" class=\"dataframe\">\n",
       "  <thead>\n",
       "    <tr style=\"text-align: right;\">\n",
       "      <th></th>\n",
       "      <th>study_Hours_Per_Week</th>\n",
       "      <th>Performance_Score</th>\n",
       "      <th>Performance_Completed</th>\n",
       "      <th>Learning_Track</th>\n",
       "    </tr>\n",
       "  </thead>\n",
       "  <tbody>\n",
       "    <tr>\n",
       "      <th>195</th>\n",
       "      <td>35.650585</td>\n",
       "      <td>87.690171</td>\n",
       "      <td>10</td>\n",
       "      <td>Accelerated</td>\n",
       "    </tr>\n",
       "    <tr>\n",
       "      <th>196</th>\n",
       "      <td>42.576661</td>\n",
       "      <td>83.825481</td>\n",
       "      <td>11</td>\n",
       "      <td>Accelerated</td>\n",
       "    </tr>\n",
       "    <tr>\n",
       "      <th>197</th>\n",
       "      <td>30.730266</td>\n",
       "      <td>101.763224</td>\n",
       "      <td>5</td>\n",
       "      <td>Accelerated</td>\n",
       "    </tr>\n",
       "    <tr>\n",
       "      <th>198</th>\n",
       "      <td>35.108772</td>\n",
       "      <td>89.349736</td>\n",
       "      <td>15</td>\n",
       "      <td>Accelerated</td>\n",
       "    </tr>\n",
       "    <tr>\n",
       "      <th>199</th>\n",
       "      <td>23.492957</td>\n",
       "      <td>72.949309</td>\n",
       "      <td>14</td>\n",
       "      <td>Accelerated</td>\n",
       "    </tr>\n",
       "  </tbody>\n",
       "</table>\n",
       "</div>"
      ],
      "text/plain": [
       "     study_Hours_Per_Week  Performance_Score  Performance_Completed  \\\n",
       "195             35.650585          87.690171                     10   \n",
       "196             42.576661          83.825481                     11   \n",
       "197             30.730266         101.763224                      5   \n",
       "198             35.108772          89.349736                     15   \n",
       "199             23.492957          72.949309                     14   \n",
       "\n",
       "    Learning_Track  \n",
       "195    Accelerated  \n",
       "196    Accelerated  \n",
       "197    Accelerated  \n",
       "198    Accelerated  \n",
       "199    Accelerated  "
      ]
     },
     "execution_count": 26,
     "metadata": {},
     "output_type": "execute_result"
    }
   ],
   "source": [
    "data.tail() #the last 5 "
   ]
  },
  {
   "cell_type": "code",
   "execution_count": null,
   "id": "ea947578",
   "metadata": {},
   "outputs": [],
   "source": [
    "#Clean the data - to keep it in range or in realistic bounds by cliping it \n",
    "\n"
   ]
  }
 ],
 "metadata": {
  "kernelspec": {
   "display_name": ".venv (3.13.5)",
   "language": "python",
   "name": "python3"
  },
  "language_info": {
   "codemirror_mode": {
    "name": "ipython",
    "version": 3
   },
   "file_extension": ".py",
   "mimetype": "text/x-python",
   "name": "python",
   "nbconvert_exporter": "python",
   "pygments_lexer": "ipython3",
   "version": "3.13.5"
  }
 },
 "nbformat": 4,
 "nbformat_minor": 5
}
