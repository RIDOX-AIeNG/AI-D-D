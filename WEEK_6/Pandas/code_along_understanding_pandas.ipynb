{
 "cells": [
  {
   "cell_type": "markdown",
   "id": "e5e37bbc",
   "metadata": {},
   "source": []
  },
  {
   "cell_type": "markdown",
   "id": "da55aa82",
   "metadata": {
    "vscode": {
     "languageId": "plaintext"
    }
   },
   "source": [
    "# Groups of Functions in pandas for Data analysis"
   ]
  },
  {
   "cell_type": "code",
   "execution_count": 2,
   "id": "ef1d9256",
   "metadata": {},
   "outputs": [],
   "source": [
    "# import pandas package\n",
    "\n",
    "import pandas as pd\n",
    "data = [1,2,3,4,5,6,7,8,9,10]"
   ]
  },
  {
   "cell_type": "code",
   "execution_count": 4,
   "id": "d526f7b0",
   "metadata": {},
   "outputs": [
    {
     "data": {
      "text/plain": [
       "0     1\n",
       "1     2\n",
       "2     3\n",
       "3     4\n",
       "4     5\n",
       "5     6\n",
       "6     7\n",
       "7     8\n",
       "8     9\n",
       "9    10\n",
       "dtype: int64"
      ]
     },
     "execution_count": 4,
     "metadata": {},
     "output_type": "execute_result"
    }
   ],
   "source": [
    "#Creating a panda series\n",
    "series = pd.Series(data)\n",
    "\n",
    "# lets view the series we have created\n",
    "series.head(10)"
   ]
  }
 ],
 "metadata": {
  "kernelspec": {
   "display_name": "ridwan (3.13.5)",
   "language": "python",
   "name": "python3"
  },
  "language_info": {
   "codemirror_mode": {
    "name": "ipython",
    "version": 3
   },
   "file_extension": ".py",
   "mimetype": "text/x-python",
   "name": "python",
   "nbconvert_exporter": "python",
   "pygments_lexer": "ipython3",
   "version": "3.13.5"
  }
 },
 "nbformat": 4,
 "nbformat_minor": 5
}
